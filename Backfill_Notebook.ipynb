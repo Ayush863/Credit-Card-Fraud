{
 "cells": [
  {
   "cell_type": "markdown",
   "metadata": {
    "id": "rlBI7Ifiob28"
   },
   "source": [
    "# Backfill notebook"
   ]
  },
  {
   "cell_type": "code",
   "execution_count": null,
   "metadata": {
    "colab": {
     "base_uri": "https://localhost:8080/"
    },
    "id": "BZPUEENyoXKf",
    "outputId": "ad3218dc-4a8f-43da-dc98-126e1f9a2246"
   },
   "outputs": [],
   "source": [
    "!pip install -U hopsworks --quiet"
   ]
  },
  {
   "cell_type": "markdown",
   "metadata": {
    "id": "pyZC30cqofFP"
   },
   "source": [
    "#### Data: Data comes in three different parquet files: \n",
    "- `credit_cards.parquet`: Credit card information such as expiration date and provider.\n",
    "- `transactions.parquet`: Transaction information such as timestamp of transaction, the location of transaction, and the amount of transaction. Importantly, a binary **'fraud_label'** variable tells us whether a transaction was fraudulent or not.\n",
    "- `profiles.parquet`: Credit card user information such as birthdate and city of residence.\n",
    "\n",
    "All of these files have `cc_num` column as a natural join key.\n",
    "\n",
    "#### Data Source: \n",
    "As real time sources of credit card fraud data are NOT easily accessible(owing to both, their financial value and associated security concerns), we conceptualize these three files as originating from separate data sources"
   ]
  },
  {
   "cell_type": "markdown",
   "metadata": {
    "id": "v8JL97sYrDcP"
   },
   "source": [
    "### Imports"
   ]
  },
  {
   "cell_type": "code",
   "execution_count": null,
   "metadata": {
    "id": "N10dBLrRrAkD"
   },
   "outputs": [],
   "source": [
    "import pandas as pd\n",
    "from datetime import datetime\n",
    "import hopsworks"
   ]
  },
  {
   "cell_type": "code",
   "execution_count": null,
   "metadata": {
    "colab": {
     "base_uri": "https://localhost:8080/",
     "height": 206
    },
    "id": "ukk14ZdtrF_a",
    "outputId": "d7ce8e69-e233-4b7a-d6cd-9f4440764a33"
   },
   "outputs": [],
   "source": [
    "url = \"https://repo.hops.works/master/hopsworks-tutorials/data/card_fraud_data\"\n",
    "credit_cards_df = pd.read_parquet(url + \"/credit_cards.parquet\")\n",
    "credit_cards_df.head(5)"
   ]
  },
  {
   "cell_type": "code",
   "execution_count": null,
   "metadata": {
    "colab": {
     "base_uri": "https://localhost:8080/",
     "height": 206
    },
    "id": "omYnATTurIx2",
    "outputId": "84512440-562d-4600-ed17-ee52d120489a"
   },
   "outputs": [],
   "source": [
    "profiles_df = pd.read_parquet(url + \"/profiles.parquet\")\n",
    "profiles_df.head(5)"
   ]
  },
  {
   "cell_type": "code",
   "execution_count": null,
   "metadata": {
    "colab": {
     "base_uri": "https://localhost:8080/",
     "height": 143
    },
    "id": "kn88DNerr8cM",
    "outputId": "42d75909-5fd9-4974-d41c-bda56b1b0215"
   },
   "outputs": [],
   "source": [
    "trans_df = pd.read_parquet(url + \"/transactions.parquet\")\n",
    "trans_df.head(3)"
   ]
  },
  {
   "cell_type": "markdown",
   "metadata": {
    "id": "qydMxQjGsNGl"
   },
   "source": [
    "## Feature Engineering\n",
    "Fraudulent transactions can differ from regular ones in many different ways. Typical red flags would for instance be a large transaction volume/frequency in the span of a few hours. It could also be the case that elderly people in particular are targeted by fraudsters. To facilitate model learning we will create additional features based on these patterns. In particular, we will create two types of features:\n",
    "1. **Features that aggregate data from different data sources**. This could for instance be the age of a customer at the time of a transaction, which combines the `birthdate` feature from `profiles.csv` with the `datetime` feature from `transactions.csv`.\n",
    "2. **Features that aggregate data from multiple time steps**. An example of this could be the transaction frequency of a credit card in the span of a few hours, which is computed using a window function.\n",
    "\n",
    "Let's start with the first category, aggregating from different sources."
   ]
  },
  {
   "cell_type": "markdown",
   "metadata": {
    "id": "fzkcRWvGs6XB"
   },
   "source": [
    "#### Here we create three additional features. 'card_owner_age', 'expiry_days', and 'activity_level'."
   ]
  },
  {
   "cell_type": "code",
   "execution_count": null,
   "metadata": {
    "id": "4zwNhOz1sjLx"
   },
   "outputs": [],
   "source": [
    "from helper import features\n",
    "import warnings\n",
    "warnings.filterwarnings('ignore')\n",
    "\n",
    "fraud_labels = trans_df[[\"tid\", \"cc_num\", \"datetime\", \"fraud_label\"]]\n",
    "fraud_labels.datetime = fraud_labels.datetime.map(lambda x: features.date_to_timestamp(x))\n",
    "\n",
    "trans_df = trans_df.drop(['fraud_label'], axis=1)\n",
    "trans_df = features.card_owner_age(trans_df, profiles_df)\n",
    "trans_df = features.expiry_days(trans_df, credit_cards_df)\n",
    "trans_df = features.activity_level(trans_df, 1)\n",
    "\n",
    "trans_df"
   ]
  },
  {
   "cell_type": "markdown",
   "metadata": {
    "id": "WsPKtqmauYTM"
   },
   "source": [
    "We also need to create feature groups(a feature group can be seen as a collection of conceptually related features) in our feature store.\n",
    "Let's create our first feature group."
   ]
  },
  {
   "cell_type": "code",
   "execution_count": null,
   "metadata": {
    "id": "JnQ9cFqluzEP"
   },
   "outputs": [],
   "source": [
    "project = hopsworks.login()\n",
    "fs = project.get_feature_store()"
   ]
  },
  {
   "cell_type": "code",
   "execution_count": null,
   "metadata": {
    "id": "oYCrPC03u5ou"
   },
   "outputs": [],
   "source": [
    "trans_fg = fs.get_or_create_feature_group(\n",
    "    name=\"cc_trans_fraud\",\n",
    "    version=2,\n",
    "    description=\"Credit Card transactions\",\n",
    "    primary_key=[\"cc_num\"],\n",
    "    event_time=\"datetime\"\n",
    ")"
   ]
  },
  {
   "cell_type": "code",
   "execution_count": null,
   "metadata": {
    "id": "ym8tkn_ru9mf"
   },
   "outputs": [],
   "source": [
    "trans_fg.insert(trans_df, write_options={\"wait_for_job\" : False})"
   ]
  },
  {
   "cell_type": "code",
   "execution_count": null,
   "metadata": {
    "id": "juTxhbjVvHuy"
   },
   "outputs": [],
   "source": [
    "feature_descriptions = [\n",
    "    {\"name\": \"tid\", \"description\": \"Transaction id\"},\n",
    "    {\"name\": \"datetime\", \"description\": \"Transaction time\"},\n",
    "    {\"name\": \"cc_num\", \"description\": \"Number of the credit card performing the transaction\"},\n",
    "    {\"name\": \"category\", \"description\": \"Expense category\"},\n",
    "    {\"name\": \"amount\", \"description\": \"Dollar amount of the transaction\"},\n",
    "    {\"name\": \"city\", \"description\": \"City in which the transaction was made\"},\n",
    "    {\"name\": \"country\", \"description\": \"Country in which the transaction was made\"},\n",
    "    {\"name\": \"age_at_transaction\", \"description\": \"Age of the card holder when the transaction was made\"},\n",
    "    {\"name\": \"days_until_card_expires\", \"description\": \"Card validity days left when the transaction was made\"},\n",
    "    {\"name\": \"loc_delta_t_minus_1\", \"description\": \"Haversine distance between this transaction location and the previous transaction location from the same card\"},\n",
    "    {\"name\": \"time_delta_t_minus_1\", \"description\": \"Time in days between this transaction and the previous transaction location from the same card\"},\n",
    "]\n",
    "\n",
    "for desc in feature_descriptions: \n",
    "    trans_fg.update_feature_description(desc[\"name\"], desc[\"description\"])"
   ]
  },
  {
   "cell_type": "markdown",
   "metadata": {
    "id": "A8GbwF7utQiF"
   },
   "source": [
    "#### Now for the second part, we create features from each credit card aggregated from multiple time steps.\n"
   ]
  },
  {
   "cell_type": "code",
   "execution_count": null,
   "metadata": {
    "id": "3Picp-Shsx6v"
   },
   "outputs": [],
   "source": [
    "window_len = 4\n",
    "window_aggs_df = cc_features.aggregate_activity_by_hour(trans_df, window_len)\n",
    "window_aggs_df.tail()"
   ]
  },
  {
   "cell_type": "code",
   "execution_count": null,
   "metadata": {
    "id": "wCNA18MEvIs7"
   },
   "outputs": [],
   "source": [
    "window_aggs_fg = fs.get_or_create_feature_group(\n",
    "    name=f\"cc_trans_fraud_{window_len}h\",\n",
    "    version=2,\n",
    "    description=f\"Counts of the number of credit card transactions over {window_len} hour windows.\",\n",
    "    primary_key=[\"cc_num\"],\n",
    "    event_time=\"datetime\"\n",
    ")"
   ]
  },
  {
   "cell_type": "code",
   "execution_count": null,
   "metadata": {
    "id": "vnqNDA82vM3K"
   },
   "outputs": [],
   "source": [
    "window_aggs_fg.insert(window_aggs_df, write_options={\"wait_for_job\" : False})"
   ]
  },
  {
   "cell_type": "code",
   "execution_count": null,
   "metadata": {
    "id": "FUdDLJTWvPUo"
   },
   "outputs": [],
   "source": [
    "feature_descriptions = [\n",
    "    {\"name\": \"datetime\", \"description\": \"Transaction time\"},\n",
    "    {\"name\": \"cc_num\", \"description\": \"Number of the credit card performing the transaction\"},\n",
    "    {\"name\": \"loc_delta_mavg\", \"description\": \"Moving average of location difference between consecutive transactions from the same card\"},\n",
    "    {\"name\": \"trans_freq\", \"description\": \"Moving average of transaction frequency from the same card\"},\n",
    "    {\"name\": \"trans_volume_mavg\", \"description\": \"Moving average of transaction volume from the same card\"},\n",
    "    {\"name\": \"trans_volume_mstd\", \"description\": \"Moving standard deviation of transaction volume from the same card\"},\n",
    "]\n",
    "\n",
    "for desc in feature_descriptions: \n",
    "    window_aggs_fg.update_feature_description(desc[\"name\"], desc[\"description\"])"
   ]
  },
  {
   "cell_type": "markdown",
   "metadata": {},
   "source": [
    "#### Creating another fetaure group for fraud transactions"
   ]
  },
  {
   "cell_type": "code",
   "execution_count": null,
   "metadata": {
    "id": "6Dy-O4r7vSzH"
   },
   "outputs": [],
   "source": [
    "trans_label_fg = fs.get_or_create_feature_group(\n",
    "    name=\"transactions_fraud_label\",\n",
    "    version=2,\n",
    "    description=\"CC transactions that have been flagged as fraud\",\n",
    "    primary_key=['cc_num'],\n",
    "    event_time='datetime'\n",
    ")\n",
    "\n",
    "trans_label_fg.insert(fraud_labels, write_options={\"wait_for_job\" : False})"
   ]
  },
  {
   "cell_type": "code",
   "execution_count": null,
   "metadata": {
    "id": "QiPu5lePvZoW"
   },
   "outputs": [],
   "source": [
    "feature_descriptions = [\n",
    "    {\"name\": \"tid\", \"description\": \"Transaction id\"},\n",
    "    {\"name\": \"cc_num\", \"description\": \"Number of the credit card performing the transaction\"},    \n",
    "    {\"name\": \"datetime\", \"description\": \"Transaction time\"},\n",
    "    {\"name\": \"fraud_label\", \"description\": \"Whether the transaction was fraudulent or not\"},\n",
    "]\n",
    "for desc in feature_descriptions: \n",
    "    trans_label_fg.update_feature_description(desc[\"name\"], desc[\"description\"])"
   ]
  }
 ],
 "metadata": {
  "accelerator": "GPU",
  "colab": {
   "provenance": []
  },
  "gpuClass": "standard",
  "kernelspec": {
   "display_name": "Python 3 (ipykernel)",
   "language": "python",
   "name": "python3"
  },
  "language_info": {
   "codemirror_mode": {
    "name": "ipython",
    "version": 3
   },
   "file_extension": ".py",
   "mimetype": "text/x-python",
   "name": "python",
   "nbconvert_exporter": "python",
   "pygments_lexer": "ipython3",
   "version": "3.10.4"
  }
 },
 "nbformat": 4,
 "nbformat_minor": 4
}

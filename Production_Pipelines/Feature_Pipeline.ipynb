{
  "nbformat": 4,
  "nbformat_minor": 0,
  "metadata": {
    "colab": {
      "provenance": [],
      "authorship_tag": "ABX9TyPpIffIbgJ7BiXTLMLjHua8"
    },
    "kernelspec": {
      "name": "python3",
      "display_name": "Python 3"
    },
    "language_info": {
      "name": "python"
    }
  },
  "cells": [
    {
      "cell_type": "markdown",
      "source": [
        "# Feature pipeline"
      ],
      "metadata": {
        "id": "XkkpL4kDD6S7"
      }
    },
    {
      "cell_type": "code",
      "execution_count": null,
      "metadata": {
        "id": "kiDyBp_VD2c9"
      },
      "outputs": [],
      "source": [
        "!pip install -U hopsworks --quiet\n",
        "!pip install -U faker --quiet"
      ]
    },
    {
      "cell_type": "code",
      "source": [
        "import pandas as pd\n",
        "import datetime\n",
        "import hopsworks\n",
        "from helper import synthetic_data\n",
        "import random\n",
        "pd.options.mode.chained_assignment = None"
      ],
      "metadata": {
        "id": "UCF3hyaIEH33"
      },
      "execution_count": null,
      "outputs": []
    },
    {
      "cell_type": "code",
      "source": [
        "start_time = (datetime.datetime.now() - datetime.timedelta(hours=24)).strftime(\"%Y-%m-%d %H:%M:%S\")\n",
        "end_time = datetime.datetime.now().strftime(\"%Y-%m-%d %H:%M:%S\")\n",
        "print(start_time)\n",
        "print(end_time)"
      ],
      "metadata": {
        "id": "BUjJm0vpEP2K"
      },
      "execution_count": null,
      "outputs": []
    },
    {
      "cell_type": "code",
      "source": [
        "synthetic_data.FRAUD_RATIO = random.uniform(0.001, 0.005)\n",
        "synthetic_data.TOTAL_UNIQUE_USERS = 1000\n",
        "synthetic_data.TOTAL_UNIQUE_TRANSACTIONS = 54000\n",
        "synthetic_data.CASH_WITHRAWAL_CARDS_TOTAL = 2000\n",
        "synthetic_data.TOTAL_UNIQUE_CASH_WITHDRAWALS = 200\n",
        "synthetic_data.START_DATE=start_time\n",
        "synthetic_data.END_DATE=end_time\n",
        "\n",
        "credit_cards = synthetic_data.generate_list_credit_card_numbers()\n",
        "credit_cards_df = synthetic_data.create_credit_cards_as_df(credit_cards)\n",
        "profiles_df = synthetic_data.create_profiles_as_df(credit_cards)\n",
        "trans_df = synthetic_data.create_transactions_as_df(credit_cards)"
      ],
      "metadata": {
        "id": "vcTZ91pNEf05"
      },
      "execution_count": null,
      "outputs": []
    },
    {
      "cell_type": "markdown",
      "source": [
        "## Feature Engineering"
      ],
      "metadata": {
        "id": "vtAA4tzWEpjN"
      }
    },
    {
      "cell_type": "code",
      "source": [
        "fraud_labels = trans_df.copy()[[\"tid\", \"cc_num\", \"datetime\", \"fraud_label\"]]\n",
        "fraud_labels"
      ],
      "metadata": {
        "id": "2YmfnzK8Ekfh"
      },
      "execution_count": null,
      "outputs": []
    },
    {
      "cell_type": "code",
      "source": [
        "from helper import cc_features\n",
        "\n",
        "fraud_labels.datetime = fraud_labels.datetime.map(lambda x: features.date_to_timestamp(x))\n",
        "fraud_labels"
      ],
      "metadata": {
        "id": "VCw23Bl1Engp"
      },
      "execution_count": null,
      "outputs": []
    },
    {
      "cell_type": "code",
      "source": [
        "trans_df.drop(['fraud_label'], inplace = True, axis=1)\n",
        "trans_df = cc_features.card_owner_age(trans_df, profiles_df)\n",
        "trans_df = cc_features.expiry_days(trans_df, credit_cards_df)\n",
        "trans_df = cc_features.activity_level(trans_df, 1)"
      ],
      "metadata": {
        "id": "moNjsqIJE1qM"
      },
      "execution_count": null,
      "outputs": []
    },
    {
      "cell_type": "code",
      "source": [
        "window_len = 4\n",
        "window_aggs_df = cc_features.aggregate_activity_by_hour(trans_df, window_len)"
      ],
      "metadata": {
        "id": "3A52jXdvE6VA"
      },
      "execution_count": null,
      "outputs": []
    },
    {
      "cell_type": "markdown",
      "source": [
        "### Connecting to hopsworks"
      ],
      "metadata": {
        "id": "nWcDEjGvE-Lv"
      }
    },
    {
      "cell_type": "code",
      "source": [
        "project = hopsworks.login()\n",
        "fs = project.get_feature_store()"
      ],
      "metadata": {
        "id": "9_gouQ3sE9k1"
      },
      "execution_count": null,
      "outputs": []
    },
    {
      "cell_type": "code",
      "source": [
        "trans_fg = fs.get_feature_group(name=\"cc_trans_fraud\", version=2)\n",
        "trans_fg.insert(trans_df, write_options={\"wait_for_job\" : False})"
      ],
      "metadata": {
        "id": "-ycfdt6xFBNs"
      },
      "execution_count": null,
      "outputs": []
    },
    {
      "cell_type": "code",
      "source": [
        "window_aggs_fg = fs.get_feature_group(name=f\"cc_trans_fraud_{window_len}h\", version=2)\n",
        "window_aggs_fg.insert(window_aggs_df, write_options={\"wait_for_job\" : False})"
      ],
      "metadata": {
        "id": "rgIpyND3FEwD"
      },
      "execution_count": null,
      "outputs": []
    },
    {
      "cell_type": "code",
      "source": [
        "labels_fg = fs.get_feature_group(name=\"transactions_fraud_label\", version=2)\n",
        "labels_fg.insert(fraud_labels)"
      ],
      "metadata": {
        "id": "FWwzmgB1FJrG"
      },
      "execution_count": null,
      "outputs": []
    }
  ]
}
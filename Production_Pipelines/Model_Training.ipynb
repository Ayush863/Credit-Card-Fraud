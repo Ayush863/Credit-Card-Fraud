{
  "nbformat": 4,
  "nbformat_minor": 0,
  "metadata": {
    "colab": {
      "provenance": [],
      "authorship_tag": "ABX9TyPufilfHb/PD+DsQj+z9gX6"
    },
    "kernelspec": {
      "name": "python3",
      "display_name": "Python 3"
    },
    "language_info": {
      "name": "python"
    },
    "widgets": {
      "application/vnd.jupyter.widget-state+json": {
        "19aac6f6df374965aa18f661dcb62f7a": {
          "model_module": "@jupyter-widgets/controls",
          "model_name": "HBoxModel",
          "model_module_version": "1.5.0",
          "state": {
            "_dom_classes": [],
            "_model_module": "@jupyter-widgets/controls",
            "_model_module_version": "1.5.0",
            "_model_name": "HBoxModel",
            "_view_count": null,
            "_view_module": "@jupyter-widgets/controls",
            "_view_module_version": "1.5.0",
            "_view_name": "HBoxView",
            "box_style": "",
            "children": [
              "IPY_MODEL_d7beb635b048430e9667c9d25ae661f3",
              "IPY_MODEL_6542246781864754ad82198208d7a280",
              "IPY_MODEL_e381e6edbcce43b1b76a5f757e9dda5d"
            ],
            "layout": "IPY_MODEL_81d3dd568f2b4224bc1bae7e27d7a168"
          }
        },
        "d7beb635b048430e9667c9d25ae661f3": {
          "model_module": "@jupyter-widgets/controls",
          "model_name": "HTMLModel",
          "model_module_version": "1.5.0",
          "state": {
            "_dom_classes": [],
            "_model_module": "@jupyter-widgets/controls",
            "_model_module_version": "1.5.0",
            "_model_name": "HTMLModel",
            "_view_count": null,
            "_view_module": "@jupyter-widgets/controls",
            "_view_module_version": "1.5.0",
            "_view_name": "HTMLView",
            "description": "",
            "description_tooltip": null,
            "layout": "IPY_MODEL_4f73ad545dfb493290da8a27aba9bd10",
            "placeholder": "​",
            "style": "IPY_MODEL_5dabee3b8dd1400283adf019e0d4b1a5",
            "value": "Model export complete: 100%"
          }
        },
        "6542246781864754ad82198208d7a280": {
          "model_module": "@jupyter-widgets/controls",
          "model_name": "FloatProgressModel",
          "model_module_version": "1.5.0",
          "state": {
            "_dom_classes": [],
            "_model_module": "@jupyter-widgets/controls",
            "_model_module_version": "1.5.0",
            "_model_name": "FloatProgressModel",
            "_view_count": null,
            "_view_module": "@jupyter-widgets/controls",
            "_view_module_version": "1.5.0",
            "_view_name": "ProgressView",
            "bar_style": "success",
            "description": "",
            "description_tooltip": null,
            "layout": "IPY_MODEL_2a9a27ddc8b34f9d8d2c4f844e4c3246",
            "max": 6,
            "min": 0,
            "orientation": "horizontal",
            "style": "IPY_MODEL_2a11eb67237b4bd9a110da6853bc31f0",
            "value": 6
          }
        },
        "e381e6edbcce43b1b76a5f757e9dda5d": {
          "model_module": "@jupyter-widgets/controls",
          "model_name": "HTMLModel",
          "model_module_version": "1.5.0",
          "state": {
            "_dom_classes": [],
            "_model_module": "@jupyter-widgets/controls",
            "_model_module_version": "1.5.0",
            "_model_name": "HTMLModel",
            "_view_count": null,
            "_view_module": "@jupyter-widgets/controls",
            "_view_module_version": "1.5.0",
            "_view_name": "HTMLView",
            "description": "",
            "description_tooltip": null,
            "layout": "IPY_MODEL_4fd3b8e5a3ca4a99937f0d193e459b5a",
            "placeholder": "​",
            "style": "IPY_MODEL_974292ba2b6e4380a8a94e123354cd3d",
            "value": " 6/6 [00:22&lt;00:00,  4.76s/it]"
          }
        },
        "81d3dd568f2b4224bc1bae7e27d7a168": {
          "model_module": "@jupyter-widgets/base",
          "model_name": "LayoutModel",
          "model_module_version": "1.2.0",
          "state": {
            "_model_module": "@jupyter-widgets/base",
            "_model_module_version": "1.2.0",
            "_model_name": "LayoutModel",
            "_view_count": null,
            "_view_module": "@jupyter-widgets/base",
            "_view_module_version": "1.2.0",
            "_view_name": "LayoutView",
            "align_content": null,
            "align_items": null,
            "align_self": null,
            "border": null,
            "bottom": null,
            "display": null,
            "flex": null,
            "flex_flow": null,
            "grid_area": null,
            "grid_auto_columns": null,
            "grid_auto_flow": null,
            "grid_auto_rows": null,
            "grid_column": null,
            "grid_gap": null,
            "grid_row": null,
            "grid_template_areas": null,
            "grid_template_columns": null,
            "grid_template_rows": null,
            "height": null,
            "justify_content": null,
            "justify_items": null,
            "left": null,
            "margin": null,
            "max_height": null,
            "max_width": null,
            "min_height": null,
            "min_width": null,
            "object_fit": null,
            "object_position": null,
            "order": null,
            "overflow": null,
            "overflow_x": null,
            "overflow_y": null,
            "padding": null,
            "right": null,
            "top": null,
            "visibility": null,
            "width": null
          }
        },
        "4f73ad545dfb493290da8a27aba9bd10": {
          "model_module": "@jupyter-widgets/base",
          "model_name": "LayoutModel",
          "model_module_version": "1.2.0",
          "state": {
            "_model_module": "@jupyter-widgets/base",
            "_model_module_version": "1.2.0",
            "_model_name": "LayoutModel",
            "_view_count": null,
            "_view_module": "@jupyter-widgets/base",
            "_view_module_version": "1.2.0",
            "_view_name": "LayoutView",
            "align_content": null,
            "align_items": null,
            "align_self": null,
            "border": null,
            "bottom": null,
            "display": null,
            "flex": null,
            "flex_flow": null,
            "grid_area": null,
            "grid_auto_columns": null,
            "grid_auto_flow": null,
            "grid_auto_rows": null,
            "grid_column": null,
            "grid_gap": null,
            "grid_row": null,
            "grid_template_areas": null,
            "grid_template_columns": null,
            "grid_template_rows": null,
            "height": null,
            "justify_content": null,
            "justify_items": null,
            "left": null,
            "margin": null,
            "max_height": null,
            "max_width": null,
            "min_height": null,
            "min_width": null,
            "object_fit": null,
            "object_position": null,
            "order": null,
            "overflow": null,
            "overflow_x": null,
            "overflow_y": null,
            "padding": null,
            "right": null,
            "top": null,
            "visibility": null,
            "width": null
          }
        },
        "5dabee3b8dd1400283adf019e0d4b1a5": {
          "model_module": "@jupyter-widgets/controls",
          "model_name": "DescriptionStyleModel",
          "model_module_version": "1.5.0",
          "state": {
            "_model_module": "@jupyter-widgets/controls",
            "_model_module_version": "1.5.0",
            "_model_name": "DescriptionStyleModel",
            "_view_count": null,
            "_view_module": "@jupyter-widgets/base",
            "_view_module_version": "1.2.0",
            "_view_name": "StyleView",
            "description_width": ""
          }
        },
        "2a9a27ddc8b34f9d8d2c4f844e4c3246": {
          "model_module": "@jupyter-widgets/base",
          "model_name": "LayoutModel",
          "model_module_version": "1.2.0",
          "state": {
            "_model_module": "@jupyter-widgets/base",
            "_model_module_version": "1.2.0",
            "_model_name": "LayoutModel",
            "_view_count": null,
            "_view_module": "@jupyter-widgets/base",
            "_view_module_version": "1.2.0",
            "_view_name": "LayoutView",
            "align_content": null,
            "align_items": null,
            "align_self": null,
            "border": null,
            "bottom": null,
            "display": null,
            "flex": null,
            "flex_flow": null,
            "grid_area": null,
            "grid_auto_columns": null,
            "grid_auto_flow": null,
            "grid_auto_rows": null,
            "grid_column": null,
            "grid_gap": null,
            "grid_row": null,
            "grid_template_areas": null,
            "grid_template_columns": null,
            "grid_template_rows": null,
            "height": null,
            "justify_content": null,
            "justify_items": null,
            "left": null,
            "margin": null,
            "max_height": null,
            "max_width": null,
            "min_height": null,
            "min_width": null,
            "object_fit": null,
            "object_position": null,
            "order": null,
            "overflow": null,
            "overflow_x": null,
            "overflow_y": null,
            "padding": null,
            "right": null,
            "top": null,
            "visibility": null,
            "width": null
          }
        },
        "2a11eb67237b4bd9a110da6853bc31f0": {
          "model_module": "@jupyter-widgets/controls",
          "model_name": "ProgressStyleModel",
          "model_module_version": "1.5.0",
          "state": {
            "_model_module": "@jupyter-widgets/controls",
            "_model_module_version": "1.5.0",
            "_model_name": "ProgressStyleModel",
            "_view_count": null,
            "_view_module": "@jupyter-widgets/base",
            "_view_module_version": "1.2.0",
            "_view_name": "StyleView",
            "bar_color": null,
            "description_width": ""
          }
        },
        "4fd3b8e5a3ca4a99937f0d193e459b5a": {
          "model_module": "@jupyter-widgets/base",
          "model_name": "LayoutModel",
          "model_module_version": "1.2.0",
          "state": {
            "_model_module": "@jupyter-widgets/base",
            "_model_module_version": "1.2.0",
            "_model_name": "LayoutModel",
            "_view_count": null,
            "_view_module": "@jupyter-widgets/base",
            "_view_module_version": "1.2.0",
            "_view_name": "LayoutView",
            "align_content": null,
            "align_items": null,
            "align_self": null,
            "border": null,
            "bottom": null,
            "display": null,
            "flex": null,
            "flex_flow": null,
            "grid_area": null,
            "grid_auto_columns": null,
            "grid_auto_flow": null,
            "grid_auto_rows": null,
            "grid_column": null,
            "grid_gap": null,
            "grid_row": null,
            "grid_template_areas": null,
            "grid_template_columns": null,
            "grid_template_rows": null,
            "height": null,
            "justify_content": null,
            "justify_items": null,
            "left": null,
            "margin": null,
            "max_height": null,
            "max_width": null,
            "min_height": null,
            "min_width": null,
            "object_fit": null,
            "object_position": null,
            "order": null,
            "overflow": null,
            "overflow_x": null,
            "overflow_y": null,
            "padding": null,
            "right": null,
            "top": null,
            "visibility": null,
            "width": null
          }
        },
        "974292ba2b6e4380a8a94e123354cd3d": {
          "model_module": "@jupyter-widgets/controls",
          "model_name": "DescriptionStyleModel",
          "model_module_version": "1.5.0",
          "state": {
            "_model_module": "@jupyter-widgets/controls",
            "_model_module_version": "1.5.0",
            "_model_name": "DescriptionStyleModel",
            "_view_count": null,
            "_view_module": "@jupyter-widgets/base",
            "_view_module_version": "1.2.0",
            "_view_name": "StyleView",
            "description_width": ""
          }
        }
      }
    }
  },
  "cells": [
    {
      "cell_type": "markdown",
      "source": [
        "# Model Training Production Notebook"
      ],
      "metadata": {
        "id": "BUpUS6FBVXdF"
      }
    },
    {
      "cell_type": "code",
      "execution_count": null,
      "metadata": {
        "id": "qnpZ1mhcVR8O"
      },
      "outputs": [],
      "source": [
        "!pip install -U hopsworks --quiet"
      ]
    },
    {
      "cell_type": "markdown",
      "source": [
        "### Importing and connecting to Hopsworks"
      ],
      "metadata": {
        "id": "pSaM8PseVpGF"
      }
    },
    {
      "cell_type": "code",
      "source": [
        "import hopsworks\n",
        "import pandas as pd\n",
        "\n",
        "project = hopsworks.login()\n",
        "fs = project.get_feature_store()"
      ],
      "metadata": {
        "colab": {
          "base_uri": "https://localhost:8080/"
        },
        "id": "TIdE32iyVgaY",
        "outputId": "4a665c57-2b86-4751-c38e-88a6a1e83598"
      },
      "execution_count": 2,
      "outputs": [
        {
          "output_type": "stream",
          "name": "stdout",
          "text": [
            "Copy your Api Key (first register/login): https://c.app.hopsworks.ai/account/api/generated\n",
            "\n",
            "Paste it here: ··········\n",
            "Connected. Call `.close()` to terminate connection gracefully.\n",
            "\n",
            "Logged in to project, explore it here https://c.app.hopsworks.ai:443/p/3342\n",
            "Connected. Call `.close()` to terminate connection gracefully.\n"
          ]
        },
        {
          "output_type": "stream",
          "name": "stderr",
          "text": [
            "DeprecationWarning: Using or importing the ABCs from 'collections' instead of from 'collections.abc' is deprecated since Python 3.3,and in 3.9 it will stop working\n",
            "DeprecationWarning: Using or importing the ABCs from 'collections' instead of from 'collections.abc' is deprecated since Python 3.3,and in 3.9 it will stop working\n"
          ]
        }
      ]
    },
    {
      "cell_type": "markdown",
      "source": [
        "#### Creating a Feature View"
      ],
      "metadata": {
        "id": "UKVm-9H5V2Jn"
      }
    },
    {
      "cell_type": "code",
      "source": [
        "feature_view_name=\"cc_trans_fraud\"\n",
        "def create_feature_view(feature_view_name, version):\n",
        "    trans_fg = fs.get_feature_group(feature_view_name, version=version)\n",
        "    window_aggs_fg = fs.get_feature_group(feature_view_name + '_4h', version=version)\n",
        "    fraud_label_fg = fs.get_feature_group('transactions_fraud_label', version=version) \n",
        "    # Load transformation functions.\n",
        "    min_max_scaler = fs.get_transformation_function(name=\"min_max_scaler\")\n",
        "    label_encoder = fs.get_transformation_function(name=\"label_encoder\")\n",
        "\n",
        "    # Map features to transformations.\n",
        "    transformation_functions = {\n",
        "        \"category\": label_encoder,\n",
        "        \"amount\": min_max_scaler,\n",
        "        \"trans_volume_mavg\": min_max_scaler,\n",
        "        \"trans_volume_mstd\": min_max_scaler,\n",
        "        \"loc_delta_mavg\": min_max_scaler,\n",
        "        \"trans_freq\": min_max_scaler,\n",
        "        \"loc_delta_t_minus_1\": min_max_scaler,\n",
        "        \"time_delta_t_minus_1\": min_max_scaler,\n",
        "        \"age_at_transaction\": min_max_scaler,\n",
        "        \"days_until_card_expires\": min_max_scaler,\n",
        "    }\n",
        "    # Select features for training data.\n",
        "    ds_query = fraud_label_fg.select(['tid', 'datetime','fraud_label'])\\\n",
        "        .join(trans_fg.select_except([\"city\", \"country\", \"tid\"]))\\\n",
        "        .join(window_aggs_fg.select_except([\"cc_num\", \"datetime\"]))\n",
        "    #, prefix=\"ken\") \\\n",
        "    #ds_query.show(5)    \n",
        "    return fs.create_feature_view(\n",
        "        name=feature_view_name,\n",
        "        query=ds_query,\n",
        "        labels=[\"fraud_label\"],\n",
        "        transformation_functions=transformation_functions\n",
        "    )"
      ],
      "metadata": {
        "id": "poRyn-FjVxng"
      },
      "execution_count": 3,
      "outputs": []
    },
    {
      "cell_type": "code",
      "source": [
        "try:\n",
        "    feature_view = fs.get_feature_view(name=feature_view_name, version=1)\n",
        "except:\n",
        "    feature_view = create_feature_view(feature_view_name, 2)"
      ],
      "metadata": {
        "colab": {
          "base_uri": "https://localhost:8080/"
        },
        "id": "7GB3ozF5V6Xh",
        "outputId": "3eed29e4-96cb-4619-bfe8-a87bc1be74cc"
      },
      "execution_count": 4,
      "outputs": [
        {
          "output_type": "stream",
          "name": "stdout",
          "text": [
            "Feature view created successfully, explore it at \n",
            "https://c.app.hopsworks.ai:443/p/3342/fs/3289/fv/cc_trans_fraud/version/1\n"
          ]
        }
      ]
    },
    {
      "cell_type": "code",
      "source": [
        "print(feature_view.query.to_string())"
      ],
      "metadata": {
        "colab": {
          "base_uri": "https://localhost:8080/"
        },
        "id": "g837HxnaV-Vh",
        "outputId": "3dc5fe2d-5f5b-4bad-8400-a1d7d390a197"
      },
      "execution_count": 5,
      "outputs": [
        {
          "output_type": "stream",
          "name": "stdout",
          "text": [
            "WITH right_fg0 AS (SELECT *\n",
            "FROM (SELECT `fg2`.`tid` `tid`, `fg2`.`datetime` `datetime`, `fg2`.`fraud_label` `fraud_label`, `fg2`.`cc_num` `join_pk_cc_num`, `fg2`.`datetime` `join_evt_datetime`, `fg0`.`cc_num` `cc_num`, `fg0`.`category` `category`, `fg0`.`amount` `amount`, `fg0`.`age_at_transaction` `age_at_transaction`, `fg0`.`days_until_card_expires` `days_until_card_expires`, `fg0`.`loc_delta_t_minus_1` `loc_delta_t_minus_1`, `fg0`.`time_delta_t_minus_1` `time_delta_t_minus_1`, RANK() OVER (PARTITION BY `fg2`.`cc_num`, `fg2`.`datetime` ORDER BY `fg0`.`datetime` DESC) pit_rank_hopsworks\n",
            "FROM `data_featurestore`.`transactions_fraud_label_2` `fg2`\n",
            "INNER JOIN `data_featurestore`.`cc_trans_fraud_2` `fg0` ON `fg2`.`cc_num` = `fg0`.`cc_num` AND `fg2`.`datetime` >= `fg0`.`datetime`) NA\n",
            "WHERE `pit_rank_hopsworks` = 1), right_fg1 AS (SELECT *\n",
            "FROM (SELECT `fg2`.`tid` `tid`, `fg2`.`datetime` `datetime`, `fg2`.`fraud_label` `fraud_label`, `fg2`.`cc_num` `join_pk_cc_num`, `fg2`.`datetime` `join_evt_datetime`, `fg1`.`trans_volume_mstd` `trans_volume_mstd`, `fg1`.`trans_volume_mavg` `trans_volume_mavg`, `fg1`.`trans_freq` `trans_freq`, `fg1`.`loc_delta_mavg` `loc_delta_mavg`, RANK() OVER (PARTITION BY `fg2`.`cc_num`, `fg2`.`datetime` ORDER BY `fg1`.`datetime` DESC) pit_rank_hopsworks\n",
            "FROM `data_featurestore`.`transactions_fraud_label_2` `fg2`\n",
            "INNER JOIN `data_featurestore`.`cc_trans_fraud_4h_2` `fg1` ON `fg2`.`cc_num` = `fg1`.`cc_num` AND `fg2`.`datetime` >= `fg1`.`datetime`) NA\n",
            "WHERE `pit_rank_hopsworks` = 1) (SELECT `right_fg0`.`tid` `tid`, `right_fg0`.`datetime` `datetime`, `right_fg0`.`fraud_label` `fraud_label`, `right_fg0`.`cc_num` `cc_num`, `right_fg0`.`category` `category`, `right_fg0`.`amount` `amount`, `right_fg0`.`age_at_transaction` `age_at_transaction`, `right_fg0`.`days_until_card_expires` `days_until_card_expires`, `right_fg0`.`loc_delta_t_minus_1` `loc_delta_t_minus_1`, `right_fg0`.`time_delta_t_minus_1` `time_delta_t_minus_1`, `right_fg1`.`trans_volume_mstd` `trans_volume_mstd`, `right_fg1`.`trans_volume_mavg` `trans_volume_mavg`, `right_fg1`.`trans_freq` `trans_freq`, `right_fg1`.`loc_delta_mavg` `loc_delta_mavg`\n",
            "FROM right_fg0\n",
            "INNER JOIN right_fg1 ON `right_fg0`.`join_pk_cc_num` = `right_fg1`.`join_pk_cc_num` AND `right_fg0`.`join_evt_datetime` = `right_fg1`.`join_evt_datetime`)\n"
          ]
        }
      ]
    },
    {
      "cell_type": "markdown",
      "source": [
        "#### Creating Training Data(Splitting the original data into Training set and Test set)"
      ],
      "metadata": {
        "id": "48vPdHsGWTN_"
      }
    },
    {
      "cell_type": "code",
      "source": [
        "td_version, td_job = feature_view.create_train_test_split(\n",
        "    description = 'transactions fraud batch training dataset',\n",
        "    data_format = \"csv\",\n",
        "    test_size = 0.2,\n",
        "    coalesce = True,\n",
        "    statistics_config={\n",
        "        \"enabled\": True,\n",
        "        \"histograms\": False,\n",
        "        \"correlations\": False\n",
        "    }    \n",
        ")"
      ],
      "metadata": {
        "colab": {
          "base_uri": "https://localhost:8080/"
        },
        "id": "zfJ4tG6bWBvP",
        "outputId": "d5eb0395-570d-4bbb-e983-372b6cab2135"
      },
      "execution_count": 6,
      "outputs": [
        {
          "output_type": "stream",
          "name": "stdout",
          "text": [
            "Training dataset job started successfully, you can follow the progress at \n",
            "https://c.app.hopsworks.ai/p/3342/jobs/named/cc_trans_fraud_1_1_create_fv_td_25112022104001/executions\n"
          ]
        },
        {
          "output_type": "stream",
          "name": "stderr",
          "text": [
            "VersionWarning: Incremented version to `1`.\n"
          ]
        }
      ]
    },
    {
      "cell_type": "code",
      "source": [
        "X_train, X_test, y_train, y_test = feature_view.get_train_test_split(training_dataset_version=td_version)"
      ],
      "metadata": {
        "id": "ZCtK0iJjWtzn"
      },
      "execution_count": 7,
      "outputs": []
    },
    {
      "cell_type": "code",
      "source": [
        "X_train = X_train.iloc[: , 3:]\n",
        "X_test = X_test.iloc[: , 3:]\n",
        "X_train"
      ],
      "metadata": {
        "colab": {
          "base_uri": "https://localhost:8080/",
          "height": 488
        },
        "id": "EYdYx-UcXHvA",
        "outputId": "454e466f-d599-4fd2-9484-e9624785e8bd"
      },
      "execution_count": 8,
      "outputs": [
        {
          "output_type": "execute_result",
          "data": {
            "text/plain": [
              "        category    amount  age_at_transaction  days_until_card_expires  \\\n",
              "0              0  0.000440            0.515553                 0.702739   \n",
              "1              0  0.002051            0.898096                 0.973872   \n",
              "2              1  0.001235            0.320079                 0.355725   \n",
              "3              2  0.002643            0.637510                 0.959680   \n",
              "4              3  0.001922            0.345375                 0.560612   \n",
              "...          ...       ...                 ...                      ...   \n",
              "132807         2  0.000925            0.577192                 0.604891   \n",
              "132808         0  0.000695            0.069399                 0.876981   \n",
              "132809         0  0.000381            0.462497                 0.552936   \n",
              "132810         5  0.000715            0.799196                 0.101194   \n",
              "132811         2  0.000785            0.087189                 0.841109   \n",
              "\n",
              "        loc_delta_t_minus_1  time_delta_t_minus_1  trans_volume_mstd  \\\n",
              "0                  0.003549              0.075166           0.006230   \n",
              "1                  0.228808              0.045650           0.032012   \n",
              "2                  0.246717              0.038225           0.005996   \n",
              "3                  0.100995              0.057440           0.019635   \n",
              "4                  0.152721              0.000947           0.003516   \n",
              "...                     ...                   ...                ...   \n",
              "132807             0.211795              0.000621           0.014771   \n",
              "132808             0.020728              0.010423           0.011286   \n",
              "132809             0.000007              0.027479           0.029034   \n",
              "132810             0.045633              0.000059           0.002977   \n",
              "132811             0.014463              0.000218           0.000000   \n",
              "\n",
              "        trans_volume_mavg  trans_freq  loc_delta_mavg  \n",
              "0                0.006040    0.006040        0.124262  \n",
              "1                0.031826    0.031826        0.218505  \n",
              "2                0.005806    0.005806        0.235239  \n",
              "3                0.019447    0.019447        0.083247  \n",
              "4                0.003325    0.003325        0.229926  \n",
              "...                   ...         ...             ...  \n",
              "132807           0.014582    0.014582        0.215288  \n",
              "132808           0.011097    0.011097        0.081132  \n",
              "132809           0.028848    0.028848        0.081822  \n",
              "132810           0.002786    0.002786        0.206333  \n",
              "132811                NaN         NaN             NaN  \n",
              "\n",
              "[132812 rows x 10 columns]"
            ],
            "text/html": [
              "\n",
              "  <div id=\"df-e74131dd-acc5-4cae-9d8d-3158892f09cf\">\n",
              "    <div class=\"colab-df-container\">\n",
              "      <div>\n",
              "<style scoped>\n",
              "    .dataframe tbody tr th:only-of-type {\n",
              "        vertical-align: middle;\n",
              "    }\n",
              "\n",
              "    .dataframe tbody tr th {\n",
              "        vertical-align: top;\n",
              "    }\n",
              "\n",
              "    .dataframe thead th {\n",
              "        text-align: right;\n",
              "    }\n",
              "</style>\n",
              "<table border=\"1\" class=\"dataframe\">\n",
              "  <thead>\n",
              "    <tr style=\"text-align: right;\">\n",
              "      <th></th>\n",
              "      <th>category</th>\n",
              "      <th>amount</th>\n",
              "      <th>age_at_transaction</th>\n",
              "      <th>days_until_card_expires</th>\n",
              "      <th>loc_delta_t_minus_1</th>\n",
              "      <th>time_delta_t_minus_1</th>\n",
              "      <th>trans_volume_mstd</th>\n",
              "      <th>trans_volume_mavg</th>\n",
              "      <th>trans_freq</th>\n",
              "      <th>loc_delta_mavg</th>\n",
              "    </tr>\n",
              "  </thead>\n",
              "  <tbody>\n",
              "    <tr>\n",
              "      <th>0</th>\n",
              "      <td>0</td>\n",
              "      <td>0.000440</td>\n",
              "      <td>0.515553</td>\n",
              "      <td>0.702739</td>\n",
              "      <td>0.003549</td>\n",
              "      <td>0.075166</td>\n",
              "      <td>0.006230</td>\n",
              "      <td>0.006040</td>\n",
              "      <td>0.006040</td>\n",
              "      <td>0.124262</td>\n",
              "    </tr>\n",
              "    <tr>\n",
              "      <th>1</th>\n",
              "      <td>0</td>\n",
              "      <td>0.002051</td>\n",
              "      <td>0.898096</td>\n",
              "      <td>0.973872</td>\n",
              "      <td>0.228808</td>\n",
              "      <td>0.045650</td>\n",
              "      <td>0.032012</td>\n",
              "      <td>0.031826</td>\n",
              "      <td>0.031826</td>\n",
              "      <td>0.218505</td>\n",
              "    </tr>\n",
              "    <tr>\n",
              "      <th>2</th>\n",
              "      <td>1</td>\n",
              "      <td>0.001235</td>\n",
              "      <td>0.320079</td>\n",
              "      <td>0.355725</td>\n",
              "      <td>0.246717</td>\n",
              "      <td>0.038225</td>\n",
              "      <td>0.005996</td>\n",
              "      <td>0.005806</td>\n",
              "      <td>0.005806</td>\n",
              "      <td>0.235239</td>\n",
              "    </tr>\n",
              "    <tr>\n",
              "      <th>3</th>\n",
              "      <td>2</td>\n",
              "      <td>0.002643</td>\n",
              "      <td>0.637510</td>\n",
              "      <td>0.959680</td>\n",
              "      <td>0.100995</td>\n",
              "      <td>0.057440</td>\n",
              "      <td>0.019635</td>\n",
              "      <td>0.019447</td>\n",
              "      <td>0.019447</td>\n",
              "      <td>0.083247</td>\n",
              "    </tr>\n",
              "    <tr>\n",
              "      <th>4</th>\n",
              "      <td>3</td>\n",
              "      <td>0.001922</td>\n",
              "      <td>0.345375</td>\n",
              "      <td>0.560612</td>\n",
              "      <td>0.152721</td>\n",
              "      <td>0.000947</td>\n",
              "      <td>0.003516</td>\n",
              "      <td>0.003325</td>\n",
              "      <td>0.003325</td>\n",
              "      <td>0.229926</td>\n",
              "    </tr>\n",
              "    <tr>\n",
              "      <th>...</th>\n",
              "      <td>...</td>\n",
              "      <td>...</td>\n",
              "      <td>...</td>\n",
              "      <td>...</td>\n",
              "      <td>...</td>\n",
              "      <td>...</td>\n",
              "      <td>...</td>\n",
              "      <td>...</td>\n",
              "      <td>...</td>\n",
              "      <td>...</td>\n",
              "    </tr>\n",
              "    <tr>\n",
              "      <th>132807</th>\n",
              "      <td>2</td>\n",
              "      <td>0.000925</td>\n",
              "      <td>0.577192</td>\n",
              "      <td>0.604891</td>\n",
              "      <td>0.211795</td>\n",
              "      <td>0.000621</td>\n",
              "      <td>0.014771</td>\n",
              "      <td>0.014582</td>\n",
              "      <td>0.014582</td>\n",
              "      <td>0.215288</td>\n",
              "    </tr>\n",
              "    <tr>\n",
              "      <th>132808</th>\n",
              "      <td>0</td>\n",
              "      <td>0.000695</td>\n",
              "      <td>0.069399</td>\n",
              "      <td>0.876981</td>\n",
              "      <td>0.020728</td>\n",
              "      <td>0.010423</td>\n",
              "      <td>0.011286</td>\n",
              "      <td>0.011097</td>\n",
              "      <td>0.011097</td>\n",
              "      <td>0.081132</td>\n",
              "    </tr>\n",
              "    <tr>\n",
              "      <th>132809</th>\n",
              "      <td>0</td>\n",
              "      <td>0.000381</td>\n",
              "      <td>0.462497</td>\n",
              "      <td>0.552936</td>\n",
              "      <td>0.000007</td>\n",
              "      <td>0.027479</td>\n",
              "      <td>0.029034</td>\n",
              "      <td>0.028848</td>\n",
              "      <td>0.028848</td>\n",
              "      <td>0.081822</td>\n",
              "    </tr>\n",
              "    <tr>\n",
              "      <th>132810</th>\n",
              "      <td>5</td>\n",
              "      <td>0.000715</td>\n",
              "      <td>0.799196</td>\n",
              "      <td>0.101194</td>\n",
              "      <td>0.045633</td>\n",
              "      <td>0.000059</td>\n",
              "      <td>0.002977</td>\n",
              "      <td>0.002786</td>\n",
              "      <td>0.002786</td>\n",
              "      <td>0.206333</td>\n",
              "    </tr>\n",
              "    <tr>\n",
              "      <th>132811</th>\n",
              "      <td>2</td>\n",
              "      <td>0.000785</td>\n",
              "      <td>0.087189</td>\n",
              "      <td>0.841109</td>\n",
              "      <td>0.014463</td>\n",
              "      <td>0.000218</td>\n",
              "      <td>0.000000</td>\n",
              "      <td>NaN</td>\n",
              "      <td>NaN</td>\n",
              "      <td>NaN</td>\n",
              "    </tr>\n",
              "  </tbody>\n",
              "</table>\n",
              "<p>132812 rows × 10 columns</p>\n",
              "</div>\n",
              "      <button class=\"colab-df-convert\" onclick=\"convertToInteractive('df-e74131dd-acc5-4cae-9d8d-3158892f09cf')\"\n",
              "              title=\"Convert this dataframe to an interactive table.\"\n",
              "              style=\"display:none;\">\n",
              "        \n",
              "  <svg xmlns=\"http://www.w3.org/2000/svg\" height=\"24px\"viewBox=\"0 0 24 24\"\n",
              "       width=\"24px\">\n",
              "    <path d=\"M0 0h24v24H0V0z\" fill=\"none\"/>\n",
              "    <path d=\"M18.56 5.44l.94 2.06.94-2.06 2.06-.94-2.06-.94-.94-2.06-.94 2.06-2.06.94zm-11 1L8.5 8.5l.94-2.06 2.06-.94-2.06-.94L8.5 2.5l-.94 2.06-2.06.94zm10 10l.94 2.06.94-2.06 2.06-.94-2.06-.94-.94-2.06-.94 2.06-2.06.94z\"/><path d=\"M17.41 7.96l-1.37-1.37c-.4-.4-.92-.59-1.43-.59-.52 0-1.04.2-1.43.59L10.3 9.45l-7.72 7.72c-.78.78-.78 2.05 0 2.83L4 21.41c.39.39.9.59 1.41.59.51 0 1.02-.2 1.41-.59l7.78-7.78 2.81-2.81c.8-.78.8-2.07 0-2.86zM5.41 20L4 18.59l7.72-7.72 1.47 1.35L5.41 20z\"/>\n",
              "  </svg>\n",
              "      </button>\n",
              "      \n",
              "  <style>\n",
              "    .colab-df-container {\n",
              "      display:flex;\n",
              "      flex-wrap:wrap;\n",
              "      gap: 12px;\n",
              "    }\n",
              "\n",
              "    .colab-df-convert {\n",
              "      background-color: #E8F0FE;\n",
              "      border: none;\n",
              "      border-radius: 50%;\n",
              "      cursor: pointer;\n",
              "      display: none;\n",
              "      fill: #1967D2;\n",
              "      height: 32px;\n",
              "      padding: 0 0 0 0;\n",
              "      width: 32px;\n",
              "    }\n",
              "\n",
              "    .colab-df-convert:hover {\n",
              "      background-color: #E2EBFA;\n",
              "      box-shadow: 0px 1px 2px rgba(60, 64, 67, 0.3), 0px 1px 3px 1px rgba(60, 64, 67, 0.15);\n",
              "      fill: #174EA6;\n",
              "    }\n",
              "\n",
              "    [theme=dark] .colab-df-convert {\n",
              "      background-color: #3B4455;\n",
              "      fill: #D2E3FC;\n",
              "    }\n",
              "\n",
              "    [theme=dark] .colab-df-convert:hover {\n",
              "      background-color: #434B5C;\n",
              "      box-shadow: 0px 1px 3px 1px rgba(0, 0, 0, 0.15);\n",
              "      filter: drop-shadow(0px 1px 2px rgba(0, 0, 0, 0.3));\n",
              "      fill: #FFFFFF;\n",
              "    }\n",
              "  </style>\n",
              "\n",
              "      <script>\n",
              "        const buttonEl =\n",
              "          document.querySelector('#df-e74131dd-acc5-4cae-9d8d-3158892f09cf button.colab-df-convert');\n",
              "        buttonEl.style.display =\n",
              "          google.colab.kernel.accessAllowed ? 'block' : 'none';\n",
              "\n",
              "        async function convertToInteractive(key) {\n",
              "          const element = document.querySelector('#df-e74131dd-acc5-4cae-9d8d-3158892f09cf');\n",
              "          const dataTable =\n",
              "            await google.colab.kernel.invokeFunction('convertToInteractive',\n",
              "                                                     [key], {});\n",
              "          if (!dataTable) return;\n",
              "\n",
              "          const docLinkHtml = 'Like what you see? Visit the ' +\n",
              "            '<a target=\"_blank\" href=https://colab.research.google.com/notebooks/data_table.ipynb>data table notebook</a>'\n",
              "            + ' to learn more about interactive tables.';\n",
              "          element.innerHTML = '';\n",
              "          dataTable['output_type'] = 'display_data';\n",
              "          await google.colab.output.renderOutput(dataTable, element);\n",
              "          const docLink = document.createElement('div');\n",
              "          docLink.innerHTML = docLinkHtml;\n",
              "          element.appendChild(docLink);\n",
              "        }\n",
              "      </script>\n",
              "    </div>\n",
              "  </div>\n",
              "  "
            ]
          },
          "metadata": {},
          "execution_count": 8
        }
      ]
    },
    {
      "cell_type": "code",
      "source": [
        "y_test.value_counts()"
      ],
      "metadata": {
        "colab": {
          "base_uri": "https://localhost:8080/"
        },
        "id": "gPq0sZbqXL35",
        "outputId": "c75e86a2-8ff4-4cf5-a40d-8fd6ea2b0080"
      },
      "execution_count": 9,
      "outputs": [
        {
          "output_type": "execute_result",
          "data": {
            "text/plain": [
              "fraud_label\n",
              "0              33211\n",
              "1                 61\n",
              "dtype: int64"
            ]
          },
          "metadata": {},
          "execution_count": 9
        }
      ]
    },
    {
      "cell_type": "markdown",
      "source": [
        "### Model Training"
      ],
      "metadata": {
        "id": "PDA_xBeeXP3r"
      }
    },
    {
      "cell_type": "code",
      "source": [
        "import xgboost as xgb\n",
        "\n",
        "clf = xgb.XGBClassifier()\n",
        "\n",
        "clf.fit(X_train,y_train)"
      ],
      "metadata": {
        "colab": {
          "base_uri": "https://localhost:8080/"
        },
        "id": "tim51NG4XT49",
        "outputId": "41deb7b1-6f62-4ebd-cbe8-f2ee39fff774"
      },
      "execution_count": 10,
      "outputs": [
        {
          "output_type": "stream",
          "name": "stderr",
          "text": [
            "DataConversionWarning: A column-vector y was passed when a 1d array was expected. Please change the shape of y to (n_samples, ), for example using ravel().\n",
            "DataConversionWarning: A column-vector y was passed when a 1d array was expected. Please change the shape of y to (n_samples, ), for example using ravel().\n"
          ]
        },
        {
          "output_type": "execute_result",
          "data": {
            "text/plain": [
              "XGBClassifier()"
            ]
          },
          "metadata": {},
          "execution_count": 10
        }
      ]
    },
    {
      "cell_type": "code",
      "source": [
        "from sklearn.metrics import classification_report\n",
        "\n",
        "y_pred = clf.predict(X_test)\n",
        "\n",
        "report_dict = classification_report(y_test, y_pred, output_dict=True)\n",
        "\n",
        "print(classification_report(y_test, y_pred))"
      ],
      "metadata": {
        "colab": {
          "base_uri": "https://localhost:8080/"
        },
        "id": "p_AfM9WwXYPp",
        "outputId": "f09b9030-036b-4d01-bc8f-453698039b33"
      },
      "execution_count": 11,
      "outputs": [
        {
          "output_type": "stream",
          "name": "stdout",
          "text": [
            "              precision    recall  f1-score   support\n",
            "\n",
            "           0       1.00      1.00      1.00     33211\n",
            "           1       1.00      0.10      0.18        61\n",
            "\n",
            "    accuracy                           1.00     33272\n",
            "   macro avg       1.00      0.55      0.59     33272\n",
            "weighted avg       1.00      1.00      1.00     33272\n",
            "\n"
          ]
        }
      ]
    },
    {
      "cell_type": "code",
      "source": [
        "from sklearn.metrics import confusion_matrix\n",
        "cm = confusion_matrix(y_test, y_pred)\n",
        "cm"
      ],
      "metadata": {
        "colab": {
          "base_uri": "https://localhost:8080/"
        },
        "id": "F3_mrlb1XcWv",
        "outputId": "0efd5005-74da-4c13-d0d8-948891db77ed"
      },
      "execution_count": 12,
      "outputs": [
        {
          "output_type": "execute_result",
          "data": {
            "text/plain": [
              "array([[33211,     0],\n",
              "       [   55,     6]])"
            ]
          },
          "metadata": {},
          "execution_count": 12
        }
      ]
    },
    {
      "cell_type": "code",
      "source": [
        "print(report_dict['0'])"
      ],
      "metadata": {
        "colab": {
          "base_uri": "https://localhost:8080/"
        },
        "id": "weknuK7MXf7H",
        "outputId": "a10d645d-5863-4498-830f-4157c20a5a6c"
      },
      "execution_count": 13,
      "outputs": [
        {
          "output_type": "stream",
          "name": "stdout",
          "text": [
            "{'precision': 0.9983466602537125, 'recall': 1.0, 'f1-score': 0.9991726461783775, 'support': 33211}\n"
          ]
        }
      ]
    },
    {
      "cell_type": "markdown",
      "source": [
        "### Register the model to the model registry"
      ],
      "metadata": {
        "id": "2VWIhe-fXiuR"
      }
    },
    {
      "cell_type": "code",
      "source": [
        "def register_python_model(model, name, description, features, labels, metrics):\n",
        "    from hsml.schema import Schema\n",
        "    from hsml.model_schema import ModelSchema\n",
        "    import os\n",
        "    import joblib\n",
        "    import shutil\n",
        "\n",
        "    mr = project.get_model_registry()\n",
        "\n",
        "    model_dir= name + \"_model\"\n",
        "    if os.path.isdir(model_dir) == False:\n",
        "        os.mkdir(model_dir)\n",
        "    pickle= name + '_model.pkl'\n",
        "    # This will strip out the sml directory, copying only the files\n",
        "    #shutil.copytree(\"sml\", model_dir, dirs_exist_ok=True) #python 3.8+\n",
        "\n",
        "    joblib.dump(model, model_dir + \"/\" + pickle)\n",
        "\n",
        "    input_example = features.sample()\n",
        "    input_schema = Schema(features)\n",
        "    output_schema = Schema(labels)\n",
        "    model_schema = ModelSchema(input_schema, output_schema)\n",
        "\n",
        "    cc_fraud_model = mr.python.create_model(\n",
        "        name=\"cc_fraud\", \n",
        "        metrics=metrics,\n",
        "        model_schema=model_schema,\n",
        "        input_example=input_example, \n",
        "        description=description)\n",
        "\n",
        "    # Save all artifacts in the model directory to the model registry\n",
        "    cc_fraud_model.save(model_dir)\n",
        "\n",
        "\n",
        "register_python_model(clf, \"cc_fraud\", \"Credit Card Fraud Predictor\", X_train, y_train, report_dict['0'])"
      ],
      "metadata": {
        "colab": {
          "base_uri": "https://localhost:8080/",
          "height": 84,
          "referenced_widgets": [
            "19aac6f6df374965aa18f661dcb62f7a",
            "d7beb635b048430e9667c9d25ae661f3",
            "6542246781864754ad82198208d7a280",
            "e381e6edbcce43b1b76a5f757e9dda5d",
            "81d3dd568f2b4224bc1bae7e27d7a168",
            "4f73ad545dfb493290da8a27aba9bd10",
            "5dabee3b8dd1400283adf019e0d4b1a5",
            "2a9a27ddc8b34f9d8d2c4f844e4c3246",
            "2a11eb67237b4bd9a110da6853bc31f0",
            "4fd3b8e5a3ca4a99937f0d193e459b5a",
            "974292ba2b6e4380a8a94e123354cd3d"
          ]
        },
        "id": "kJDYWn9gXnMn",
        "outputId": "fbf14055-8ae3-4cc1-a025-f541a978dba0"
      },
      "execution_count": 14,
      "outputs": [
        {
          "output_type": "stream",
          "name": "stdout",
          "text": [
            "Connected. Call `.close()` to terminate connection gracefully.\n"
          ]
        },
        {
          "output_type": "display_data",
          "data": {
            "text/plain": [
              "  0%|          | 0/6 [00:00<?, ?it/s]"
            ],
            "application/vnd.jupyter.widget-view+json": {
              "version_major": 2,
              "version_minor": 0,
              "model_id": "19aac6f6df374965aa18f661dcb62f7a"
            }
          },
          "metadata": {}
        },
        {
          "output_type": "stream",
          "name": "stdout",
          "text": [
            "Model created, explore it at https://c.app.hopsworks.ai:443/p/3342/models/cc_fraud/1\n"
          ]
        }
      ]
    }
  ]
}